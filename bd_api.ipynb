{
 "cells": [
  {
   "cell_type": "code",
   "execution_count": null,
   "metadata": {},
   "outputs": [],
   "source": [
    "import requests\n",
    "import datetime\n",
    "import pandas as pd\n",
    "\n",
    "def get_air_pollution(lat, lon, start, end, api_key):\n",
    "    # api parameters if we want to change them\n",
    "    url = f\"http://api.openweathermap.org/data/2.5/air_pollution/history\"\n",
    "    params = {\n",
    "        \"lat\": lat,\n",
    "        \"lon\": lon,\n",
    "        \"start\": start,\n",
    "        \"end\": end,\n",
    "        \"appid\": api_key\n",
    "    }\n",
    "    \n",
    "    response = requests.get(url, params=params)\n",
    "\n",
    "    # Check if error, and if it has an error print which one\n",
    "    if response.status_code == 200:\n",
    "        data = response.json()\n",
    "        return data\n",
    "    else:\n",
    "        print(f\"Error {response.status_code}: we couldnt get the data\")\n",
    "        return None\n",
    "\n",
    "# parameters\n",
    "lat = 40.730610\n",
    "lon = -73.935242\n",
    "\n",
    "start_date = datetime.datetime(2022, 1, 1)\n",
    "end_date = datetime.datetime(2022, 12, 30)\n",
    "\n",
    "start_timestamp = int(start_date.timestamp())\n",
    "end_timestamp = int(end_date.timestamp())\n",
    "\n",
    "# API Key\n",
    "api_key = \"2a6e7b9a271d6e30972411d8deb72893\"\n",
    "\n",
    "# get the data\n",
    "air_pollution_data = get_air_pollution(lat, lon, start_timestamp, end_timestamp, api_key)\n",
    "\n",
    "if air_pollution_data:\n",
    "    print(air_pollution_data)\n"
   ]
  },
  {
   "cell_type": "code",
   "execution_count": null,
   "metadata": {},
   "outputs": [],
   "source": [
    "subway_df = pd.read_csv(\"./subway_data.csv\")\n",
    "\n",
    "subway_df[\"DateTime\"] = pd.to_datetime(subway_df[\"Date\"] + \" \" + subway_df[\"Time\"])\n",
    "\n",
    "# Opcional: eliminar las columnas originales si ya no las necesitas\n",
    "subway_df.drop(columns=[\"Date\", \"Time\", \"Description\", \"Division\", \"Line Name\"], inplace=True)\n",
    "\n",
    "print(subway_df.head())"
   ]
  },
  {
   "cell_type": "code",
   "execution_count": null,
   "metadata": {},
   "outputs": [],
   "source": [
    "from datetime import datetime, timezone\n",
    "\n",
    "data_list = []\n",
    "for record in air_pollution_data['list']:\n",
    "    dt = datetime.fromtimestamp(record['dt'], tz=timezone.utc).strftime('%Y-%m-%d %H:%M:%S')\n",
    "    aqi = record['main']['aqi']  # Índice de calidad del aire (AQI)\n",
    "    data_list.append({'DateTime': dt, 'AQI': aqi})\n",
    "\n",
    "air_pollution_df = pd.DataFrame(data_list)\n",
    "\n",
    "air_pollution_df['DateTime'] = pd.to_datetime(air_pollution_df['DateTime'])\n",
    "\n",
    "# Pass the data from hours to daily\n",
    "air_pollution_df[\"Date\"] = air_pollution_df[\"DateTime\"].dt.date\n",
    "AQI_daily_avg = air_pollution_df.groupby(\"Date\")[\"AQI\"].mean().reset_index()\n",
    "\n",
    "AQI_daily_avg.rename(columns={\"Date\": \"DateTime\", \"AQI\": \"AQI_Avg\"}, inplace=True)\n",
    "\n",
    "print(AQI_daily_avg.head())"
   ]
  },
  {
   "cell_type": "code",
   "execution_count": null,
   "metadata": {},
   "outputs": [],
   "source": [
    "subway_df[\"Date\"] = subway_df[\"DateTime\"].dt.date\n",
    "\n",
    "# Agrupar por día y calcular la media de Entries y Exits\n",
    "subway_daily_avg = subway_df.groupby(\"Date\")[[\"Entries\"]].mean().reset_index()\n",
    "\n",
    "# Renombrar las columnas para mayor claridad\n",
    "subway_daily_avg.rename(columns={\"Date\": \"DateTime\", \"Entries\": \"Avg_Entries\"}, inplace=True)\n",
    "\n",
    "print(subway_daily_avg.head())"
   ]
  },
  {
   "cell_type": "code",
   "execution_count": null,
   "metadata": {},
   "outputs": [],
   "source": [
    "subway_daily_avg['DateTime'] = pd.to_datetime(subway_daily_avg['DateTime'])\n",
    "AQI_daily_avg['DateTime'] = pd.to_datetime(AQI_daily_avg['DateTime'])\n",
    "\n",
    "combined_df = pd.merge_asof(subway_daily_avg.sort_values('DateTime'), AQI_daily_avg.sort_values('DateTime'), on='DateTime')\n",
    "\n",
    "# Seleccionar solo columnas relevantes\n",
    "final_df = combined_df[['DateTime', 'Avg_Entries', 'AQI_Avg']]\n",
    "\n",
    "print(final_df.head())"
   ]
  },
  {
   "cell_type": "code",
   "execution_count": null,
   "metadata": {},
   "outputs": [],
   "source": [
    "import matplotlib.pyplot as plt\n",
    "\n",
    "plt.figure(figsize=(10, 6))\n",
    "plt.plot(final_df['DateTime'], final_df['Avg_Entries'], color='tab:blue', label='Subway entries')\n",
    "\n",
    "plt.xlabel('Date')\n",
    "plt.ylabel('Subway entries', color='tab:blue')\n",
    "plt.title('Daily subway entries')\n",
    "plt.xticks(rotation=45)\n",
    "plt.tight_layout()\n",
    "plt.legend()\n",
    "plt.show()\n"
   ]
  },
  {
   "cell_type": "code",
   "execution_count": null,
   "metadata": {},
   "outputs": [],
   "source": [
    "plt.figure(figsize=(10, 6))\n",
    "plt.plot(final_df['DateTime'], final_df['AQI_Avg'], color='tab:green', label='Air quality')\n",
    "\n",
    "plt.xlabel('Date')\n",
    "plt.ylabel('Air quality', color='tab:green')\n",
    "plt.title('Air quality daily')\n",
    "plt.xticks(rotation=45)\n",
    "plt.tight_layout()\n",
    "plt.legend()\n",
    "plt.show()"
   ]
  },
  {
   "cell_type": "code",
   "execution_count": null,
   "metadata": {},
   "outputs": [],
   "source": [
    "# Create graph\n",
    "fig, ax1 = plt.subplots(figsize=(10, 6))\n",
    "\n",
    "# left -> Avg entries\n",
    "ax1.set_xlabel('Date')\n",
    "ax1.set_ylabel('Entry to subway', color='tab:blue')\n",
    "ax1.plot(final_df['DateTime'], final_df['Avg_Entries'], color='tab:blue', label='Avg_Entries')\n",
    "ax1.tick_params(axis='y', labelcolor='tab:blue')\n",
    "\n",
    "# right -> Avg contamination\n",
    "ax2 = ax1.twinx()\n",
    "ax2.set_ylabel('Air quality', color='tab:green')\n",
    "ax2.plot(final_df['DateTime'], final_df['AQI_Avg'], color='tab:green', label='AQI_Avg')\n",
    "ax2.tick_params(axis='y', labelcolor='tab:green')\n",
    "\n",
    "# Títulos y etiquetas\n",
    "plt.title('Entry to subway and Air quality daily')\n",
    "\n",
    "# Show graph\n",
    "plt.xticks(rotation=45)\n",
    "plt.tight_layout()\n",
    "plt.show()"
   ]
  },
  {
   "cell_type": "code",
   "execution_count": null,
   "metadata": {},
   "outputs": [],
   "source": [
    "start = \"2022-05-01\"\n",
    "finish = \"2022-08-31\"\n",
    "\n",
    "# Filtrar el DataFrame\n",
    "summer_df = final_df[(final_df[\"DateTime\"] >= start) & (final_df[\"DateTime\"] <= finish)]\n",
    "\n",
    "# Mostrar el resultado\n",
    "print(summer_df.head())"
   ]
  },
  {
   "cell_type": "code",
   "execution_count": null,
   "metadata": {},
   "outputs": [],
   "source": [
    "# Create graph\n",
    "fig, ax1 = plt.subplots(figsize=(10, 6))\n",
    "\n",
    "# left -> Avg entries\n",
    "ax1.set_xlabel('Date')\n",
    "ax1.set_ylabel('Entry to subway', color='tab:blue')\n",
    "ax1.plot(summer_df['DateTime'], summer_df['Avg_Entries'], color='tab:blue', label='Avg_Entries')\n",
    "ax1.tick_params(axis='y', labelcolor='tab:blue')\n",
    "\n",
    "# right -> Avg contamination\n",
    "ax2 = ax1.twinx()\n",
    "ax2.set_ylim(None, 5)\n",
    "ax2.set_ylabel('Air quality', color='tab:green')\n",
    "ax2.plot(summer_df['DateTime'], summer_df['AQI_Avg'], color='tab:green', label='AQI_Avg')\n",
    "ax2.tick_params(axis='y', labelcolor='tab:green')\n",
    "\n",
    "# Títulos y etiquetas\n",
    "plt.title('Entry to subway and Air quality daily')\n",
    "\n",
    "# Show graph\n",
    "plt.xticks(rotation=45)\n",
    "plt.tight_layout()\n",
    "plt.show()"
   ]
  },
  {
   "cell_type": "code",
   "execution_count": null,
   "metadata": {},
   "outputs": [],
   "source": [
    "print (final_df)"
   ]
  }
 ],
 "metadata": {
  "kernelspec": {
   "display_name": "base",
   "language": "python",
   "name": "python3"
  },
  "language_info": {
   "codemirror_mode": {
    "name": "ipython",
    "version": 3
   },
   "file_extension": ".py",
   "mimetype": "text/x-python",
   "name": "python",
   "nbconvert_exporter": "python",
   "pygments_lexer": "ipython3",
   "version": "3.12.7"
  }
 },
 "nbformat": 4,
 "nbformat_minor": 2
}
